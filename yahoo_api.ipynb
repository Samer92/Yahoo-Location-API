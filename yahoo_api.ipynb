{
 "cells": [
  {
   "cell_type": "code",
   "execution_count": 15,
   "metadata": {},
   "outputs": [],
   "source": [
    "'''\n",
    "- Code: https://gist.github.com/VerizonMediaOwner/e6be950f74c5a8071329f1d9a50e3158#gistcomment-2984946\n",
    "\n",
    "- API: https://developer.yahoo.com/weather/documentation.html\n",
    "\n",
    "- Request Parameters\n",
    "-------------------------------------------------------------------------------------------\n",
    "Parameter         Description                 Example\n",
    "-------------------------------------------------------------------------------------------\n",
    "location          city name                   location=sunnyvale,ca or location=shanghai,cn\n",
    "lat               latitude number             lat=37.372\n",
    "lon               longitude number            lon=-122.038\n",
    "format            response format             format=xml (default) or format=json\n",
    "u                 unit format                 u=f (default) or u=c\n",
    "woeid             woeid number                woeid=2502265\n",
    "\n",
    "- Sample JSON response: https://developer.yahoo.com/weather/documentation.html#json\n",
    "\n",
    "- LIMITS: https://developer.yahoo.com/yql/guide/overview.html#usage-information-and-limits\n",
    "--------------------------------------------------------------------\n",
    "Rate              Limit\n",
    "--------------------------------------------------------------------\n",
    "Hourly Cap        2,000 requests/hour per IP  \n",
    "                  20,000 requests/hour per IP (applies to our usage)\n",
    "\n",
    "Daily Cap         100,000 total requests/day per API Key\n",
    "'''\n",
    "pass"
   ]
  },
  {
   "cell_type": "code",
   "execution_count": 16,
   "metadata": {},
   "outputs": [],
   "source": [
    "'''\n",
    "    \n",
    "    API: https://developer.yahoo.com/weather/documentation.html\n",
    "    \n",
    "    library: https://github.com/M-Ahadi/yahoo_weather\n",
    "    \n",
    "    Code source: https://github.com/M-Ahadi/yahoo_weather/blob/master/yahoo_weather/api_handler.py\n",
    "    \n",
    "'''\n",
    "pass"
   ]
  },
  {
   "cell_type": "code",
   "execution_count": 17,
   "metadata": {},
   "outputs": [],
   "source": [
    "import time\n",
    "import oauth2 as oauth\n",
    "import requests\n",
    "from datetime import datetime\n",
    "import pandas as pd\n",
    "import os"
   ]
  },
  {
   "cell_type": "code",
   "execution_count": 18,
   "metadata": {},
   "outputs": [],
   "source": [
    "# Create an app and use your own credentials\n",
    "class YahooAPICredentials:\n",
    "    app_id = 'xxxxxxx'\n",
    "    consumer_key = 'xxxxxx'\n",
    "    consumer_secret = 'xxxxxxxx'\n"
   ]
  },
  {
   "cell_type": "code",
   "execution_count": 19,
   "metadata": {},
   "outputs": [],
   "source": [
    "class YahooAPI:\n",
    "    url_woeid = \"https://weather-ydn-yql.media.yahoo.com/forecastrss?woeid={woeid}&format=json&u=c\"\n",
    "    \n",
    "    def __init__(self):\n",
    "        pass\n",
    "\n",
    "    def _build_request(self, woeid):\n",
    "        # Add the WOEID to the url\n",
    "        url = YahooAPI.url_woeid.format(woeid=woeid)\n",
    "        \n",
    "        # Set the base oauth_* parameters with their respective parameters\n",
    "        request_ = oauth.Request(method='GET', \n",
    "                                 url=url, \n",
    "                                 parameters={\n",
    "                                     'Yahoo-App-Id': YahooAPICredentials.app_id,\n",
    "                                     'oauth_timestamp': str(int(time.time())),\n",
    "                                     'oauth_signature_method': \"HMAC-SHA1\",\n",
    "                                     'oauth_version': \"1.0\",\n",
    "                                     'oauth_nonce': oauth.generate_nonce(),\n",
    "                                     'oauth_consumer_key': YahooAPICredentials.consumer_key\n",
    "                                 })\n",
    "        \n",
    "        # Setup the Consumer with the consumer_key given by the provider\n",
    "        consumer = oauth.Consumer(\n",
    "            key=YahooAPICredentials.consumer_key, secret=YahooAPICredentials.consumer_secret)\n",
    "    \n",
    "        # Create the signature\n",
    "        signature = oauth.SignatureMethod_HMAC_SHA1().sign(request_, consumer, None)\n",
    "\n",
    "        # Add the Signature to the request\n",
    "        request_['oauth_signature'] = signature\n",
    "        \n",
    "        return request_\n",
    "    \n",
    "    def get_long_lat_from_woeid(self, woeid):\n",
    "        request_ = self._build_request(woeid)\n",
    "        response = requests.get(request_.to_url())\n",
    "        \n",
    "        return response"
   ]
  },
  {
   "cell_type": "code",
   "execution_count": 20,
   "metadata": {},
   "outputs": [
    {
     "data": {
      "text/plain": [
       "{'location': {'woeid': 4,\n",
       "  'city': 'Advocate Harbour',\n",
       "  'region': ' NS',\n",
       "  'country': 'Canada',\n",
       "  'lat': 45.335571,\n",
       "  'long': -64.781258,\n",
       "  'timezone_id': 'America/Halifax'},\n",
       " 'current_observation': {},\n",
       " 'forecasts': []}"
      ]
     },
     "execution_count": 20,
     "metadata": {},
     "output_type": "execute_result"
    }
   ],
   "source": [
    "api = YahooAPI()\n",
    "response = api.get_long_lat_from_woeid('4')\n",
    "response.json()"
   ]
  },
  {
   "cell_type": "code",
   "execution_count": null,
   "metadata": {},
   "outputs": [],
   "source": []
  }
 ],
 "metadata": {
  "kernelspec": {
   "display_name": "Python 3",
   "language": "python",
   "name": "python3"
  },
  "language_info": {
   "codemirror_mode": {
    "name": "ipython",
    "version": 3
   },
   "file_extension": ".py",
   "mimetype": "text/x-python",
   "name": "python",
   "nbconvert_exporter": "python",
   "pygments_lexer": "ipython3",
   "version": "3.6.8"
  }
 },
 "nbformat": 4,
 "nbformat_minor": 2
}
